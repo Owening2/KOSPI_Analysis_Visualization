{
 "cells": [
  {
   "cell_type": "code",
   "execution_count": 18,
   "metadata": {},
   "outputs": [],
   "source": [
    "import FinanceDataReader as fdr\n",
    "import pandas as pd\n",
    "\n",
    "import seaborn as sns\n",
    "import matplotlib.pyplot as plt\n",
    "\n",
    "import numpy as np"
   ]
  },
  {
   "cell_type": "code",
   "execution_count": 2,
   "metadata": {},
   "outputs": [
    {
     "data": {
      "text/plain": [
       "'0.9.34'"
      ]
     },
     "execution_count": 2,
     "metadata": {},
     "output_type": "execute_result"
    }
   ],
   "source": [
    "fdr.__version__"
   ]
  },
  {
   "cell_type": "markdown",
   "metadata": {},
   "source": [
    "Data Load"
   ]
  },
  {
   "cell_type": "code",
   "execution_count": 3,
   "metadata": {},
   "outputs": [
    {
     "name": "stderr",
     "output_type": "stream",
     "text": [
      "/Users/dataly/opt/anaconda3/envs/pytorch_env/lib/python3.10/site-packages/FinanceDataReader/data.py:47: FutureWarning: The frame.append method is deprecated and will be removed from pandas in a future version. Use pandas.concat instead.\n",
      "  df = df.append(more)\n",
      "/Users/dataly/opt/anaconda3/envs/pytorch_env/lib/python3.10/site-packages/FinanceDataReader/data.py:47: FutureWarning: The frame.append method is deprecated and will be removed from pandas in a future version. Use pandas.concat instead.\n",
      "  df = df.append(more)\n"
     ]
    }
   ],
   "source": [
    "kospi = fdr.DataReader('KS11')"
   ]
  },
  {
   "cell_type": "code",
   "execution_count": 4,
   "metadata": {},
   "outputs": [
    {
     "name": "stdout",
     "output_type": "stream",
     "text": [
      "<class 'pandas.core.frame.DataFrame'>\n",
      "DatetimeIndex: 11029 entries, 1981-05-01 to 2022-09-07\n",
      "Data columns (total 6 columns):\n",
      " #   Column  Non-Null Count  Dtype  \n",
      "---  ------  --------------  -----  \n",
      " 0   Close   11029 non-null  float64\n",
      " 1   Open    11029 non-null  float64\n",
      " 2   High    11029 non-null  float64\n",
      " 3   Low     11029 non-null  float64\n",
      " 4   Volume  11029 non-null  float64\n",
      " 5   Change  11029 non-null  float64\n",
      "dtypes: float64(6)\n",
      "memory usage: 603.1 KB\n"
     ]
    }
   ],
   "source": [
    "kospi.info()"
   ]
  },
  {
   "cell_type": "markdown",
   "metadata": {},
   "source": [
    "kospi열 설명 \n",
    "\n",
    "Close : 종가\n",
    "\n",
    "Open : 시가\n",
    "\n",
    "High : 고가\n",
    "\n",
    "Low : 저가\n",
    "\n",
    "Volume : 거래량\n",
    "\n",
    "Change : 등락률(전일대비 등락률)\n",
    "\n",
    "-> 등락률 = (현재 종가 - 전일 종가) / 전일종가"
   ]
  },
  {
   "cell_type": "code",
   "execution_count": 5,
   "metadata": {},
   "outputs": [
    {
     "data": {
      "text/html": [
       "<div>\n",
       "<style scoped>\n",
       "    .dataframe tbody tr th:only-of-type {\n",
       "        vertical-align: middle;\n",
       "    }\n",
       "\n",
       "    .dataframe tbody tr th {\n",
       "        vertical-align: top;\n",
       "    }\n",
       "\n",
       "    .dataframe thead th {\n",
       "        text-align: right;\n",
       "    }\n",
       "</style>\n",
       "<table border=\"1\" class=\"dataframe\">\n",
       "  <thead>\n",
       "    <tr style=\"text-align: right;\">\n",
       "      <th></th>\n",
       "      <th>Close</th>\n",
       "      <th>Open</th>\n",
       "      <th>High</th>\n",
       "      <th>Low</th>\n",
       "      <th>Volume</th>\n",
       "      <th>Change</th>\n",
       "    </tr>\n",
       "    <tr>\n",
       "      <th>Date</th>\n",
       "      <th></th>\n",
       "      <th></th>\n",
       "      <th></th>\n",
       "      <th></th>\n",
       "      <th></th>\n",
       "      <th></th>\n",
       "    </tr>\n",
       "  </thead>\n",
       "  <tbody>\n",
       "    <tr>\n",
       "      <th>1981-05-01</th>\n",
       "      <td>123.6</td>\n",
       "      <td>123.6</td>\n",
       "      <td>123.6</td>\n",
       "      <td>123.6</td>\n",
       "      <td>3330000.0</td>\n",
       "      <td>0.0098</td>\n",
       "    </tr>\n",
       "    <tr>\n",
       "      <th>1981-05-02</th>\n",
       "      <td>123.5</td>\n",
       "      <td>123.5</td>\n",
       "      <td>123.5</td>\n",
       "      <td>123.5</td>\n",
       "      <td>2040000.0</td>\n",
       "      <td>-0.0008</td>\n",
       "    </tr>\n",
       "    <tr>\n",
       "      <th>1981-05-04</th>\n",
       "      <td>120.6</td>\n",
       "      <td>120.6</td>\n",
       "      <td>120.6</td>\n",
       "      <td>120.6</td>\n",
       "      <td>1930000.0</td>\n",
       "      <td>-0.0235</td>\n",
       "    </tr>\n",
       "    <tr>\n",
       "      <th>1981-05-06</th>\n",
       "      <td>120.7</td>\n",
       "      <td>120.7</td>\n",
       "      <td>120.7</td>\n",
       "      <td>120.7</td>\n",
       "      <td>1690000.0</td>\n",
       "      <td>0.0008</td>\n",
       "    </tr>\n",
       "    <tr>\n",
       "      <th>1981-05-07</th>\n",
       "      <td>119.3</td>\n",
       "      <td>119.3</td>\n",
       "      <td>119.3</td>\n",
       "      <td>119.3</td>\n",
       "      <td>1480000.0</td>\n",
       "      <td>-0.0116</td>\n",
       "    </tr>\n",
       "  </tbody>\n",
       "</table>\n",
       "</div>"
      ],
      "text/plain": [
       "            Close   Open   High    Low     Volume  Change\n",
       "Date                                                     \n",
       "1981-05-01  123.6  123.6  123.6  123.6  3330000.0  0.0098\n",
       "1981-05-02  123.5  123.5  123.5  123.5  2040000.0 -0.0008\n",
       "1981-05-04  120.6  120.6  120.6  120.6  1930000.0 -0.0235\n",
       "1981-05-06  120.7  120.7  120.7  120.7  1690000.0  0.0008\n",
       "1981-05-07  119.3  119.3  119.3  119.3  1480000.0 -0.0116"
      ]
     },
     "execution_count": 5,
     "metadata": {},
     "output_type": "execute_result"
    }
   ],
   "source": [
    "kospi.head()"
   ]
  },
  {
   "cell_type": "code",
   "execution_count": 6,
   "metadata": {},
   "outputs": [
    {
     "data": {
      "text/html": [
       "<div>\n",
       "<style scoped>\n",
       "    .dataframe tbody tr th:only-of-type {\n",
       "        vertical-align: middle;\n",
       "    }\n",
       "\n",
       "    .dataframe tbody tr th {\n",
       "        vertical-align: top;\n",
       "    }\n",
       "\n",
       "    .dataframe thead th {\n",
       "        text-align: right;\n",
       "    }\n",
       "</style>\n",
       "<table border=\"1\" class=\"dataframe\">\n",
       "  <thead>\n",
       "    <tr style=\"text-align: right;\">\n",
       "      <th></th>\n",
       "      <th>Close</th>\n",
       "      <th>Open</th>\n",
       "      <th>High</th>\n",
       "      <th>Low</th>\n",
       "      <th>Volume</th>\n",
       "      <th>Change</th>\n",
       "    </tr>\n",
       "    <tr>\n",
       "      <th>Date</th>\n",
       "      <th></th>\n",
       "      <th></th>\n",
       "      <th></th>\n",
       "      <th></th>\n",
       "      <th></th>\n",
       "      <th></th>\n",
       "    </tr>\n",
       "  </thead>\n",
       "  <tbody>\n",
       "    <tr>\n",
       "      <th>2022-09-01</th>\n",
       "      <td>2415.61</td>\n",
       "      <td>2443.00</td>\n",
       "      <td>2443.61</td>\n",
       "      <td>2415.61</td>\n",
       "      <td>580020000.0</td>\n",
       "      <td>-0.0228</td>\n",
       "    </tr>\n",
       "    <tr>\n",
       "      <th>2022-09-02</th>\n",
       "      <td>2409.41</td>\n",
       "      <td>2427.70</td>\n",
       "      <td>2432.37</td>\n",
       "      <td>2402.67</td>\n",
       "      <td>391600000.0</td>\n",
       "      <td>-0.0026</td>\n",
       "    </tr>\n",
       "    <tr>\n",
       "      <th>2022-09-05</th>\n",
       "      <td>2403.68</td>\n",
       "      <td>2410.07</td>\n",
       "      <td>2424.77</td>\n",
       "      <td>2392.63</td>\n",
       "      <td>354740000.0</td>\n",
       "      <td>-0.0024</td>\n",
       "    </tr>\n",
       "    <tr>\n",
       "      <th>2022-09-06</th>\n",
       "      <td>2410.02</td>\n",
       "      <td>2409.72</td>\n",
       "      <td>2422.53</td>\n",
       "      <td>2399.26</td>\n",
       "      <td>294220.0</td>\n",
       "      <td>0.0026</td>\n",
       "    </tr>\n",
       "    <tr>\n",
       "      <th>2022-09-07</th>\n",
       "      <td>2373.44</td>\n",
       "      <td>2395.66</td>\n",
       "      <td>2398.40</td>\n",
       "      <td>2365.35</td>\n",
       "      <td>326890.0</td>\n",
       "      <td>-0.0152</td>\n",
       "    </tr>\n",
       "  </tbody>\n",
       "</table>\n",
       "</div>"
      ],
      "text/plain": [
       "              Close     Open     High      Low       Volume  Change\n",
       "Date                                                               \n",
       "2022-09-01  2415.61  2443.00  2443.61  2415.61  580020000.0 -0.0228\n",
       "2022-09-02  2409.41  2427.70  2432.37  2402.67  391600000.0 -0.0026\n",
       "2022-09-05  2403.68  2410.07  2424.77  2392.63  354740000.0 -0.0024\n",
       "2022-09-06  2410.02  2409.72  2422.53  2399.26     294220.0  0.0026\n",
       "2022-09-07  2373.44  2395.66  2398.40  2365.35     326890.0 -0.0152"
      ]
     },
     "execution_count": 6,
     "metadata": {},
     "output_type": "execute_result"
    }
   ],
   "source": [
    "kospi.tail()"
   ]
  },
  {
   "cell_type": "code",
   "execution_count": 7,
   "metadata": {},
   "outputs": [],
   "source": [
    "kospi.to_csv(\"./data/kospi_data.csv\")"
   ]
  },
  {
   "cell_type": "code",
   "execution_count": 13,
   "metadata": {},
   "outputs": [],
   "source": [
    "kospi = pd.read_csv(\"./data/kospi_data.csv\")"
   ]
  },
  {
   "cell_type": "code",
   "execution_count": 14,
   "metadata": {},
   "outputs": [
    {
     "data": {
      "text/html": [
       "<div>\n",
       "<style scoped>\n",
       "    .dataframe tbody tr th:only-of-type {\n",
       "        vertical-align: middle;\n",
       "    }\n",
       "\n",
       "    .dataframe tbody tr th {\n",
       "        vertical-align: top;\n",
       "    }\n",
       "\n",
       "    .dataframe thead th {\n",
       "        text-align: right;\n",
       "    }\n",
       "</style>\n",
       "<table border=\"1\" class=\"dataframe\">\n",
       "  <thead>\n",
       "    <tr style=\"text-align: right;\">\n",
       "      <th></th>\n",
       "      <th>Date</th>\n",
       "      <th>Close</th>\n",
       "      <th>Open</th>\n",
       "      <th>High</th>\n",
       "      <th>Low</th>\n",
       "      <th>Volume</th>\n",
       "      <th>Change</th>\n",
       "    </tr>\n",
       "  </thead>\n",
       "  <tbody>\n",
       "    <tr>\n",
       "      <th>0</th>\n",
       "      <td>1981-05-01</td>\n",
       "      <td>123.60</td>\n",
       "      <td>123.60</td>\n",
       "      <td>123.60</td>\n",
       "      <td>123.60</td>\n",
       "      <td>3330000.0</td>\n",
       "      <td>0.0098</td>\n",
       "    </tr>\n",
       "    <tr>\n",
       "      <th>1</th>\n",
       "      <td>1981-05-02</td>\n",
       "      <td>123.50</td>\n",
       "      <td>123.50</td>\n",
       "      <td>123.50</td>\n",
       "      <td>123.50</td>\n",
       "      <td>2040000.0</td>\n",
       "      <td>-0.0008</td>\n",
       "    </tr>\n",
       "    <tr>\n",
       "      <th>2</th>\n",
       "      <td>1981-05-04</td>\n",
       "      <td>120.60</td>\n",
       "      <td>120.60</td>\n",
       "      <td>120.60</td>\n",
       "      <td>120.60</td>\n",
       "      <td>1930000.0</td>\n",
       "      <td>-0.0235</td>\n",
       "    </tr>\n",
       "    <tr>\n",
       "      <th>3</th>\n",
       "      <td>1981-05-06</td>\n",
       "      <td>120.70</td>\n",
       "      <td>120.70</td>\n",
       "      <td>120.70</td>\n",
       "      <td>120.70</td>\n",
       "      <td>1690000.0</td>\n",
       "      <td>0.0008</td>\n",
       "    </tr>\n",
       "    <tr>\n",
       "      <th>4</th>\n",
       "      <td>1981-05-07</td>\n",
       "      <td>119.30</td>\n",
       "      <td>119.30</td>\n",
       "      <td>119.30</td>\n",
       "      <td>119.30</td>\n",
       "      <td>1480000.0</td>\n",
       "      <td>-0.0116</td>\n",
       "    </tr>\n",
       "    <tr>\n",
       "      <th>...</th>\n",
       "      <td>...</td>\n",
       "      <td>...</td>\n",
       "      <td>...</td>\n",
       "      <td>...</td>\n",
       "      <td>...</td>\n",
       "      <td>...</td>\n",
       "      <td>...</td>\n",
       "    </tr>\n",
       "    <tr>\n",
       "      <th>11024</th>\n",
       "      <td>2022-09-01</td>\n",
       "      <td>2415.61</td>\n",
       "      <td>2443.00</td>\n",
       "      <td>2443.61</td>\n",
       "      <td>2415.61</td>\n",
       "      <td>580020000.0</td>\n",
       "      <td>-0.0228</td>\n",
       "    </tr>\n",
       "    <tr>\n",
       "      <th>11025</th>\n",
       "      <td>2022-09-02</td>\n",
       "      <td>2409.41</td>\n",
       "      <td>2427.70</td>\n",
       "      <td>2432.37</td>\n",
       "      <td>2402.67</td>\n",
       "      <td>391600000.0</td>\n",
       "      <td>-0.0026</td>\n",
       "    </tr>\n",
       "    <tr>\n",
       "      <th>11026</th>\n",
       "      <td>2022-09-05</td>\n",
       "      <td>2403.68</td>\n",
       "      <td>2410.07</td>\n",
       "      <td>2424.77</td>\n",
       "      <td>2392.63</td>\n",
       "      <td>354740000.0</td>\n",
       "      <td>-0.0024</td>\n",
       "    </tr>\n",
       "    <tr>\n",
       "      <th>11027</th>\n",
       "      <td>2022-09-06</td>\n",
       "      <td>2410.02</td>\n",
       "      <td>2409.72</td>\n",
       "      <td>2422.53</td>\n",
       "      <td>2399.26</td>\n",
       "      <td>294220.0</td>\n",
       "      <td>0.0026</td>\n",
       "    </tr>\n",
       "    <tr>\n",
       "      <th>11028</th>\n",
       "      <td>2022-09-07</td>\n",
       "      <td>2373.44</td>\n",
       "      <td>2395.66</td>\n",
       "      <td>2398.40</td>\n",
       "      <td>2365.35</td>\n",
       "      <td>326890.0</td>\n",
       "      <td>-0.0152</td>\n",
       "    </tr>\n",
       "  </tbody>\n",
       "</table>\n",
       "<p>11029 rows × 7 columns</p>\n",
       "</div>"
      ],
      "text/plain": [
       "             Date    Close     Open     High      Low       Volume  Change\n",
       "0      1981-05-01   123.60   123.60   123.60   123.60    3330000.0  0.0098\n",
       "1      1981-05-02   123.50   123.50   123.50   123.50    2040000.0 -0.0008\n",
       "2      1981-05-04   120.60   120.60   120.60   120.60    1930000.0 -0.0235\n",
       "3      1981-05-06   120.70   120.70   120.70   120.70    1690000.0  0.0008\n",
       "4      1981-05-07   119.30   119.30   119.30   119.30    1480000.0 -0.0116\n",
       "...           ...      ...      ...      ...      ...          ...     ...\n",
       "11024  2022-09-01  2415.61  2443.00  2443.61  2415.61  580020000.0 -0.0228\n",
       "11025  2022-09-02  2409.41  2427.70  2432.37  2402.67  391600000.0 -0.0026\n",
       "11026  2022-09-05  2403.68  2410.07  2424.77  2392.63  354740000.0 -0.0024\n",
       "11027  2022-09-06  2410.02  2409.72  2422.53  2399.26     294220.0  0.0026\n",
       "11028  2022-09-07  2373.44  2395.66  2398.40  2365.35     326890.0 -0.0152\n",
       "\n",
       "[11029 rows x 7 columns]"
      ]
     },
     "execution_count": 14,
     "metadata": {},
     "output_type": "execute_result"
    }
   ],
   "source": [
    "kospi"
   ]
  },
  {
   "cell_type": "code",
   "execution_count": 16,
   "metadata": {},
   "outputs": [
    {
     "data": {
      "text/html": [
       "<div>\n",
       "<style scoped>\n",
       "    .dataframe tbody tr th:only-of-type {\n",
       "        vertical-align: middle;\n",
       "    }\n",
       "\n",
       "    .dataframe tbody tr th {\n",
       "        vertical-align: top;\n",
       "    }\n",
       "\n",
       "    .dataframe thead th {\n",
       "        text-align: right;\n",
       "    }\n",
       "</style>\n",
       "<table border=\"1\" class=\"dataframe\">\n",
       "  <thead>\n",
       "    <tr style=\"text-align: right;\">\n",
       "      <th></th>\n",
       "      <th>Date</th>\n",
       "      <th>Close</th>\n",
       "      <th>Open</th>\n",
       "      <th>High</th>\n",
       "      <th>Low</th>\n",
       "      <th>Volume</th>\n",
       "      <th>Change</th>\n",
       "    </tr>\n",
       "  </thead>\n",
       "  <tbody>\n",
       "    <tr>\n",
       "      <th>0</th>\n",
       "      <td>1981-05-01</td>\n",
       "      <td>123.60</td>\n",
       "      <td>123.60</td>\n",
       "      <td>123.60</td>\n",
       "      <td>123.60</td>\n",
       "      <td>3330000.0</td>\n",
       "      <td>0.0098</td>\n",
       "    </tr>\n",
       "    <tr>\n",
       "      <th>1</th>\n",
       "      <td>1981-05-02</td>\n",
       "      <td>123.50</td>\n",
       "      <td>123.50</td>\n",
       "      <td>123.50</td>\n",
       "      <td>123.50</td>\n",
       "      <td>2040000.0</td>\n",
       "      <td>-0.0008</td>\n",
       "    </tr>\n",
       "    <tr>\n",
       "      <th>2</th>\n",
       "      <td>1981-05-04</td>\n",
       "      <td>120.60</td>\n",
       "      <td>120.60</td>\n",
       "      <td>120.60</td>\n",
       "      <td>120.60</td>\n",
       "      <td>1930000.0</td>\n",
       "      <td>-0.0235</td>\n",
       "    </tr>\n",
       "    <tr>\n",
       "      <th>3</th>\n",
       "      <td>1981-05-06</td>\n",
       "      <td>120.70</td>\n",
       "      <td>120.70</td>\n",
       "      <td>120.70</td>\n",
       "      <td>120.70</td>\n",
       "      <td>1690000.0</td>\n",
       "      <td>0.0008</td>\n",
       "    </tr>\n",
       "    <tr>\n",
       "      <th>4</th>\n",
       "      <td>1981-05-07</td>\n",
       "      <td>119.30</td>\n",
       "      <td>119.30</td>\n",
       "      <td>119.30</td>\n",
       "      <td>119.30</td>\n",
       "      <td>1480000.0</td>\n",
       "      <td>-0.0116</td>\n",
       "    </tr>\n",
       "    <tr>\n",
       "      <th>...</th>\n",
       "      <td>...</td>\n",
       "      <td>...</td>\n",
       "      <td>...</td>\n",
       "      <td>...</td>\n",
       "      <td>...</td>\n",
       "      <td>...</td>\n",
       "      <td>...</td>\n",
       "    </tr>\n",
       "    <tr>\n",
       "      <th>11024</th>\n",
       "      <td>2022-09-01</td>\n",
       "      <td>2415.61</td>\n",
       "      <td>2443.00</td>\n",
       "      <td>2443.61</td>\n",
       "      <td>2415.61</td>\n",
       "      <td>580020000.0</td>\n",
       "      <td>-0.0228</td>\n",
       "    </tr>\n",
       "    <tr>\n",
       "      <th>11025</th>\n",
       "      <td>2022-09-02</td>\n",
       "      <td>2409.41</td>\n",
       "      <td>2427.70</td>\n",
       "      <td>2432.37</td>\n",
       "      <td>2402.67</td>\n",
       "      <td>391600000.0</td>\n",
       "      <td>-0.0026</td>\n",
       "    </tr>\n",
       "    <tr>\n",
       "      <th>11026</th>\n",
       "      <td>2022-09-05</td>\n",
       "      <td>2403.68</td>\n",
       "      <td>2410.07</td>\n",
       "      <td>2424.77</td>\n",
       "      <td>2392.63</td>\n",
       "      <td>354740000.0</td>\n",
       "      <td>-0.0024</td>\n",
       "    </tr>\n",
       "    <tr>\n",
       "      <th>11027</th>\n",
       "      <td>2022-09-06</td>\n",
       "      <td>2410.02</td>\n",
       "      <td>2409.72</td>\n",
       "      <td>2422.53</td>\n",
       "      <td>2399.26</td>\n",
       "      <td>294220.0</td>\n",
       "      <td>0.0026</td>\n",
       "    </tr>\n",
       "    <tr>\n",
       "      <th>11028</th>\n",
       "      <td>2022-09-07</td>\n",
       "      <td>2373.44</td>\n",
       "      <td>2395.66</td>\n",
       "      <td>2398.40</td>\n",
       "      <td>2365.35</td>\n",
       "      <td>326890.0</td>\n",
       "      <td>-0.0152</td>\n",
       "    </tr>\n",
       "  </tbody>\n",
       "</table>\n",
       "<p>11029 rows × 7 columns</p>\n",
       "</div>"
      ],
      "text/plain": [
       "             Date    Close     Open     High      Low       Volume  Change\n",
       "0      1981-05-01   123.60   123.60   123.60   123.60    3330000.0  0.0098\n",
       "1      1981-05-02   123.50   123.50   123.50   123.50    2040000.0 -0.0008\n",
       "2      1981-05-04   120.60   120.60   120.60   120.60    1930000.0 -0.0235\n",
       "3      1981-05-06   120.70   120.70   120.70   120.70    1690000.0  0.0008\n",
       "4      1981-05-07   119.30   119.30   119.30   119.30    1480000.0 -0.0116\n",
       "...           ...      ...      ...      ...      ...          ...     ...\n",
       "11024  2022-09-01  2415.61  2443.00  2443.61  2415.61  580020000.0 -0.0228\n",
       "11025  2022-09-02  2409.41  2427.70  2432.37  2402.67  391600000.0 -0.0026\n",
       "11026  2022-09-05  2403.68  2410.07  2424.77  2392.63  354740000.0 -0.0024\n",
       "11027  2022-09-06  2410.02  2409.72  2422.53  2399.26     294220.0  0.0026\n",
       "11028  2022-09-07  2373.44  2395.66  2398.40  2365.35     326890.0 -0.0152\n",
       "\n",
       "[11029 rows x 7 columns]"
      ]
     },
     "execution_count": 16,
     "metadata": {},
     "output_type": "execute_result"
    }
   ],
   "source": [
    "kospi = pd.DataFrame(kospi)\n",
    "kospi"
   ]
  },
  {
   "cell_type": "code",
   "execution_count": 21,
   "metadata": {},
   "outputs": [
    {
     "data": {
      "text/plain": [
       "0        1981-05-01\n",
       "1        1981-05-02\n",
       "2        1981-05-04\n",
       "3        1981-05-06\n",
       "4        1981-05-07\n",
       "            ...    \n",
       "11024    2022-09-01\n",
       "11025    2022-09-02\n",
       "11026    2022-09-05\n",
       "11027    2022-09-06\n",
       "11028    2022-09-07\n",
       "Name: Date, Length: 11029, dtype: object"
      ]
     },
     "execution_count": 21,
     "metadata": {},
     "output_type": "execute_result"
    }
   ],
   "source": [
    "kospi['Date']"
   ]
  },
  {
   "cell_type": "code",
   "execution_count": 22,
   "metadata": {},
   "outputs": [
    {
     "data": {
      "text/plain": [
       "0         123.60\n",
       "1         123.50\n",
       "2         120.60\n",
       "3         120.70\n",
       "4         119.30\n",
       "          ...   \n",
       "11024    2443.00\n",
       "11025    2427.70\n",
       "11026    2410.07\n",
       "11027    2409.72\n",
       "11028    2395.66\n",
       "Name: Open, Length: 11029, dtype: float64"
      ]
     },
     "execution_count": 22,
     "metadata": {},
     "output_type": "execute_result"
    }
   ],
   "source": [
    "kospi['Open']"
   ]
  },
  {
   "cell_type": "code",
   "execution_count": 28,
   "metadata": {},
   "outputs": [],
   "source": [
    "kospi_np = kospi.to_numpy()"
   ]
  },
  {
   "cell_type": "code",
   "execution_count": 29,
   "metadata": {},
   "outputs": [
    {
     "data": {
      "text/plain": [
       "array([['1981-05-01', 123.6, 123.6, ..., 123.6, 3330000.0, 0.0098],\n",
       "       ['1981-05-02', 123.5, 123.5, ..., 123.5, 2040000.0, -0.0008],\n",
       "       ['1981-05-04', 120.6, 120.6, ..., 120.6, 1930000.0, -0.0235],\n",
       "       ...,\n",
       "       ['2022-09-05', 2403.68, 2410.07, ..., 2392.63, 354740000.0,\n",
       "        -0.0024],\n",
       "       ['2022-09-06', 2410.02, 2409.72, ..., 2399.26, 294220.0, 0.0026],\n",
       "       ['2022-09-07', 2373.44, 2395.66, ..., 2365.35, 326890.0, -0.0152]],\n",
       "      dtype=object)"
      ]
     },
     "execution_count": 29,
     "metadata": {},
     "output_type": "execute_result"
    }
   ],
   "source": [
    "kospi_np"
   ]
  },
  {
   "cell_type": "code",
   "execution_count": 30,
   "metadata": {},
   "outputs": [
    {
     "ename": "TypeError",
     "evalue": "'<=' not supported between instances of 'str' and 'float'",
     "output_type": "error",
     "traceback": [
      "\u001b[0;31m---------------------------------------------------------------------------\u001b[0m",
      "\u001b[0;31mTypeError\u001b[0m                                 Traceback (most recent call last)",
      "\u001b[1;32m/Users/dataly/Desktop/Yeongyu/dacon/KOSPI_Analysis_Visualization/KOSPI_ANALYSIS.ipynb 셀 17\u001b[0m in \u001b[0;36m<cell line: 4>\u001b[0;34m()\u001b[0m\n\u001b[1;32m      <a href='vscode-notebook-cell:/Users/dataly/Desktop/Yeongyu/dacon/KOSPI_Analysis_Visualization/KOSPI_ANALYSIS.ipynb#X21sZmlsZQ%3D%3D?line=0'>1</a>\u001b[0m plt\u001b[39m.\u001b[39mstyle\u001b[39m.\u001b[39muse(\u001b[39m'\u001b[39m\u001b[39m_mpl-gallery\u001b[39m\u001b[39m'\u001b[39m)\n\u001b[1;32m      <a href='vscode-notebook-cell:/Users/dataly/Desktop/Yeongyu/dacon/KOSPI_Analysis_Visualization/KOSPI_ANALYSIS.ipynb#X21sZmlsZQ%3D%3D?line=2'>3</a>\u001b[0m fig, ax \u001b[39m=\u001b[39m plt\u001b[39m.\u001b[39msubplots()\n\u001b[0;32m----> <a href='vscode-notebook-cell:/Users/dataly/Desktop/Yeongyu/dacon/KOSPI_Analysis_Visualization/KOSPI_ANALYSIS.ipynb#X21sZmlsZQ%3D%3D?line=3'>4</a>\u001b[0m bins \u001b[39m=\u001b[39m np\u001b[39m.\u001b[39;49mhistogram(np\u001b[39m.\u001b[39;49mr_[kospi[\u001b[39m'\u001b[39;49m\u001b[39mDate\u001b[39;49m\u001b[39m'\u001b[39;49m], kospi[\u001b[39m'\u001b[39;49m\u001b[39mOpen\u001b[39;49m\u001b[39m'\u001b[39;49m], \u001b[39m10\u001b[39;49m])\n\u001b[1;32m      <a href='vscode-notebook-cell:/Users/dataly/Desktop/Yeongyu/dacon/KOSPI_Analysis_Visualization/KOSPI_ANALYSIS.ipynb#X21sZmlsZQ%3D%3D?line=5'>6</a>\u001b[0m ax\u001b[39m.\u001b[39mhist(kospi[\u001b[39m'\u001b[39m\u001b[39mDate\u001b[39m\u001b[39m'\u001b[39m],kospi[\u001b[39m'\u001b[39m\u001b[39mOpen\u001b[39m\u001b[39m'\u001b[39m], edgecolor \u001b[39m=\u001b[39m \u001b[39m\"\u001b[39m\u001b[39mwhite\u001b[39m\u001b[39m\"\u001b[39m)\n\u001b[1;32m      <a href='vscode-notebook-cell:/Users/dataly/Desktop/Yeongyu/dacon/KOSPI_Analysis_Visualization/KOSPI_ANALYSIS.ipynb#X21sZmlsZQ%3D%3D?line=7'>8</a>\u001b[0m ax\u001b[39m.\u001b[39mset(xlim \u001b[39m=\u001b[39m (\u001b[39m0\u001b[39m, \u001b[39m8\u001b[39m), xticks \u001b[39m=\u001b[39m np\u001b[39m.\u001b[39marrange(\u001b[39m0\u001b[39m, \u001b[39mlen\u001b[39m(kospi[\u001b[39m'\u001b[39m\u001b[39mDate\u001b[39m\u001b[39m'\u001b[39m])),\n\u001b[1;32m      <a href='vscode-notebook-cell:/Users/dataly/Desktop/Yeongyu/dacon/KOSPI_Analysis_Visualization/KOSPI_ANALYSIS.ipynb#X21sZmlsZQ%3D%3D?line=8'>9</a>\u001b[0m        ylim \u001b[39m=\u001b[39m (\u001b[39m0\u001b[39m,\u001b[39m8\u001b[39m), yticks \u001b[39m=\u001b[39m np\u001b[39m.\u001b[39marrange(\u001b[39m0\u001b[39m, \u001b[39mlen\u001b[39m(kospi[\u001b[39m'\u001b[39m\u001b[39mOpen\u001b[39m\u001b[39m'\u001b[39m])))\n",
      "File \u001b[0;32m<__array_function__ internals>:180\u001b[0m, in \u001b[0;36mhistogram\u001b[0;34m(*args, **kwargs)\u001b[0m\n",
      "File \u001b[0;32m~/opt/anaconda3/envs/pytorch_env/lib/python3.10/site-packages/numpy/lib/histograms.py:793\u001b[0m, in \u001b[0;36mhistogram\u001b[0;34m(a, bins, range, normed, weights, density)\u001b[0m\n\u001b[1;32m    681\u001b[0m \u001b[39mr\u001b[39m\u001b[39m\"\"\"\u001b[39;00m\n\u001b[1;32m    682\u001b[0m \u001b[39mCompute the histogram of a dataset.\u001b[39;00m\n\u001b[1;32m    683\u001b[0m \n\u001b[0;32m   (...)\u001b[0m\n\u001b[1;32m    789\u001b[0m \n\u001b[1;32m    790\u001b[0m \u001b[39m\"\"\"\u001b[39;00m\n\u001b[1;32m    791\u001b[0m a, weights \u001b[39m=\u001b[39m _ravel_and_check_weights(a, weights)\n\u001b[0;32m--> 793\u001b[0m bin_edges, uniform_bins \u001b[39m=\u001b[39m _get_bin_edges(a, bins, \u001b[39mrange\u001b[39;49m, weights)\n\u001b[1;32m    795\u001b[0m \u001b[39m# Histogram is an integer or a float array depending on the weights.\u001b[39;00m\n\u001b[1;32m    796\u001b[0m \u001b[39mif\u001b[39;00m weights \u001b[39mis\u001b[39;00m \u001b[39mNone\u001b[39;00m:\n",
      "File \u001b[0;32m~/opt/anaconda3/envs/pytorch_env/lib/python3.10/site-packages/numpy/lib/histograms.py:426\u001b[0m, in \u001b[0;36m_get_bin_edges\u001b[0;34m(a, bins, range, weights)\u001b[0m\n\u001b[1;32m    423\u001b[0m     \u001b[39mif\u001b[39;00m n_equal_bins \u001b[39m<\u001b[39m \u001b[39m1\u001b[39m:\n\u001b[1;32m    424\u001b[0m         \u001b[39mraise\u001b[39;00m \u001b[39mValueError\u001b[39;00m(\u001b[39m'\u001b[39m\u001b[39m`bins` must be positive, when an integer\u001b[39m\u001b[39m'\u001b[39m)\n\u001b[0;32m--> 426\u001b[0m     first_edge, last_edge \u001b[39m=\u001b[39m _get_outer_edges(a, \u001b[39mrange\u001b[39;49m)\n\u001b[1;32m    428\u001b[0m \u001b[39melif\u001b[39;00m np\u001b[39m.\u001b[39mndim(bins) \u001b[39m==\u001b[39m \u001b[39m1\u001b[39m:\n\u001b[1;32m    429\u001b[0m     bin_edges \u001b[39m=\u001b[39m np\u001b[39m.\u001b[39masarray(bins)\n",
      "File \u001b[0;32m~/opt/anaconda3/envs/pytorch_env/lib/python3.10/site-packages/numpy/lib/histograms.py:321\u001b[0m, in \u001b[0;36m_get_outer_edges\u001b[0;34m(a, range)\u001b[0m\n\u001b[1;32m    319\u001b[0m     first_edge, last_edge \u001b[39m=\u001b[39m \u001b[39m0\u001b[39m, \u001b[39m1\u001b[39m\n\u001b[1;32m    320\u001b[0m \u001b[39melse\u001b[39;00m:\n\u001b[0;32m--> 321\u001b[0m     first_edge, last_edge \u001b[39m=\u001b[39m a\u001b[39m.\u001b[39;49mmin(), a\u001b[39m.\u001b[39mmax()\n\u001b[1;32m    322\u001b[0m     \u001b[39mif\u001b[39;00m \u001b[39mnot\u001b[39;00m (np\u001b[39m.\u001b[39misfinite(first_edge) \u001b[39mand\u001b[39;00m np\u001b[39m.\u001b[39misfinite(last_edge)):\n\u001b[1;32m    323\u001b[0m         \u001b[39mraise\u001b[39;00m \u001b[39mValueError\u001b[39;00m(\n\u001b[1;32m    324\u001b[0m             \u001b[39m\"\u001b[39m\u001b[39mautodetected range of [\u001b[39m\u001b[39m{}\u001b[39;00m\u001b[39m, \u001b[39m\u001b[39m{}\u001b[39;00m\u001b[39m] is not finite\u001b[39m\u001b[39m\"\u001b[39m\u001b[39m.\u001b[39mformat(first_edge, last_edge))\n",
      "File \u001b[0;32m~/opt/anaconda3/envs/pytorch_env/lib/python3.10/site-packages/numpy/core/_methods.py:44\u001b[0m, in \u001b[0;36m_amin\u001b[0;34m(a, axis, out, keepdims, initial, where)\u001b[0m\n\u001b[1;32m     42\u001b[0m \u001b[39mdef\u001b[39;00m \u001b[39m_amin\u001b[39m(a, axis\u001b[39m=\u001b[39m\u001b[39mNone\u001b[39;00m, out\u001b[39m=\u001b[39m\u001b[39mNone\u001b[39;00m, keepdims\u001b[39m=\u001b[39m\u001b[39mFalse\u001b[39;00m,\n\u001b[1;32m     43\u001b[0m           initial\u001b[39m=\u001b[39m_NoValue, where\u001b[39m=\u001b[39m\u001b[39mTrue\u001b[39;00m):\n\u001b[0;32m---> 44\u001b[0m     \u001b[39mreturn\u001b[39;00m umr_minimum(a, axis, \u001b[39mNone\u001b[39;49;00m, out, keepdims, initial, where)\n",
      "\u001b[0;31mTypeError\u001b[0m: '<=' not supported between instances of 'str' and 'float'"
     ]
    },
    {
     "data": {
      "image/png": "[encoded data removed]",
      "text/plain": [
       "<Figure size 144x144 with 1 Axes>"
      ]
     },
     "metadata": {
      "needs_background": "light"
     },
     "output_type": "display_data"
    }
   ],
   "source": [
    "plt.style.use('_mpl-gallery')\n",
    "\n",
    "fig, ax = plt.subplots()\n",
    "bins = np.histogram(np.r_[kospi['Date'], kospi['Open'], 10])\n",
    "\n",
    "ax.hist(kospi['Date'],kospi['Open'], edgecolor = \"white\")\n",
    "\n",
    "ax.set(xlim = (0, 8), xticks = np.arrange(0, len(kospi['Date'])),\n",
    "       ylim = (0,8), yticks = np.arrange(0, len(kospi['Open'])))\n",
    "plt.show()"
   ]
  },
  {
   "cell_type": "code",
   "execution_count": null,
   "metadata": {},
   "outputs": [],
   "source": []
  }
 ],
 "metadata": {
  "kernelspec": {
   "display_name": "Python 3.10.4 ('pytorch_env')",
   "language": "python",
   "name": "python3"
  },
  "language_info": {
   "codemirror_mode": {
    "name": "ipython",
    "version": 3
   },
   "file_extension": ".py",
   "mimetype": "text/x-python",
   "name": "python",
   "nbconvert_exporter": "python",
   "pygments_lexer": "ipython3",
   "version": "3.10.4"
  },
  "orig_nbformat": 4,
  "vscode": {
   "interpreter": {
    "hash": "f524675591e2328527f99f59bc252e0f90f56d08b800f47de0bb7cd3b8d1b55b"
   }
  }
 },
 "nbformat": 4,
 "nbformat_minor": 2
}
